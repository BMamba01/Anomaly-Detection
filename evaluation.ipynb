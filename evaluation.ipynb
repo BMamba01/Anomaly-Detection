{
 "cells": [
  {
   "cell_type": "code",
   "execution_count": null,
   "id": "893f27dd",
   "metadata": {
    "_cell_guid": "5a902614-4cde-4d46-9f63-ebb050786a3d",
    "_uuid": "4d5c2136-6890-4754-a802-2d60f8750d74",
    "collapsed": false,
    "jupyter": {
     "outputs_hidden": false
    },
    "papermill": {
     "duration": 0.005474,
     "end_time": "2023-11-06T11:42:31.049031",
     "exception": false,
     "start_time": "2023-11-06T11:42:31.043557",
     "status": "completed"
    },
    "tags": []
   },
   "outputs": [],
   "source": []
  },
  {
   "cell_type": "code",
   "execution_count": null,
   "id": "ff9e15a7",
   "metadata": {
    "_cell_guid": "fdc53f1d-52b9-4826-8461-f8c471fd3706",
    "_uuid": "8c8c3659-a7b4-49fa-b01f-4fd83dd1fcb0",
    "collapsed": false,
    "jupyter": {
     "outputs_hidden": false
    },
    "papermill": {
     "duration": 0.004532,
     "end_time": "2023-11-06T11:42:31.061485",
     "exception": false,
     "start_time": "2023-11-06T11:42:31.056953",
     "status": "completed"
    },
    "tags": []
   },
   "outputs": [],
   "source": []
  },
  {
   "cell_type": "code",
   "execution_count": 1,
   "id": "111b5be5",
   "metadata": {
    "_cell_guid": "536465b8-08b1-474c-8bf9-72130baef0b0",
    "_uuid": "838764e2-f917-4728-99ad-4e33dcb6b14b",
    "collapsed": false,
    "execution": {
     "iopub.execute_input": "2023-11-06T11:42:31.073129Z",
     "iopub.status.busy": "2023-11-06T11:42:31.072485Z",
     "iopub.status.idle": "2023-11-06T11:42:31.489023Z",
     "shell.execute_reply": "2023-11-06T11:42:31.487684Z"
    },
    "jupyter": {
     "outputs_hidden": false
    },
    "papermill": {
     "duration": 0.425576,
     "end_time": "2023-11-06T11:42:31.491677",
     "exception": false,
     "start_time": "2023-11-06T11:42:31.066101",
     "status": "completed"
    },
    "tags": []
   },
   "outputs": [
    {
     "name": "stdout",
     "output_type": "stream",
     "text": [
      "/kaggle/input/timeseries-dataset/holidays_events.csv\n",
      "/kaggle/input/energy-consumption-time-series-dataset/KwhConsumptionBlower78_1.csv\n",
      "/kaggle/input/energy-consumption-time-series-dataset/KwhConsumptionBlower78_2.csv\n",
      "/kaggle/input/energy-consumption-time-series-dataset/KwhConsumptionBlower78_3.csv\n"
     ]
    }
   ],
   "source": [
    "# This Python 3 environment comes with many helpful analytics libraries installed\n",
    "# It is defined by the kaggle/python Docker image: https://github.com/kaggle/docker-python\n",
    "# For example, here's several helpful packages to load\n",
    "\n",
    "import numpy as np # linear algebra\n",
    "import pandas as pd # data processing, CSV file I/O (e.g. pd.read_csv)\n",
    "\n",
    "# Input data files are available in the read-only \"../input/\" directory\n",
    "# For example, running this (by clicking run or pressing Shift+Enter) will list all files under the input directory\n",
    "\n",
    "import os\n",
    "for dirname, _, filenames in os.walk('/kaggle/input'):\n",
    "    for filename in filenames:\n",
    "        print(os.path.join(dirname, filename))\n",
    "\n",
    "# You can write up to 20GB to the current directory (/kaggle/working/) that gets preserved as output when you create a version using \"Save & Run All\" \n",
    "# You can also write temporary files to /kaggle/temp/, but they won't be saved outside of the current session"
   ]
  },
  {
   "cell_type": "code",
   "execution_count": 2,
   "id": "33862160",
   "metadata": {
    "_cell_guid": "1a276abe-63de-4e18-bba8-7bcfd7319c05",
    "_uuid": "f6a8d81e-cd98-449d-8dcf-545c704cffa5",
    "collapsed": false,
    "execution": {
     "iopub.execute_input": "2023-11-06T11:42:31.503337Z",
     "iopub.status.busy": "2023-11-06T11:42:31.502819Z",
     "iopub.status.idle": "2023-11-06T11:42:33.468686Z",
     "shell.execute_reply": "2023-11-06T11:42:33.467242Z"
    },
    "jupyter": {
     "outputs_hidden": false
    },
    "papermill": {
     "duration": 1.974399,
     "end_time": "2023-11-06T11:42:33.471062",
     "exception": false,
     "start_time": "2023-11-06T11:42:31.496663",
     "status": "completed"
    },
    "tags": []
   },
   "outputs": [
    {
     "name": "stdout",
     "output_type": "stream",
     "text": [
      "   Unnamed: 0      TxnDate   TxnTime  Consumption\n",
      "0       76229  01 Jan 2022  16:55:52        1.010\n",
      "1       76258  01 Jan 2022  21:45:29        0.908\n",
      "2       76287  01 Jan 2022  12:24:52        0.926\n",
      "3       76316  01 Jan 2022  04:07:36        0.928\n",
      "4       76345  01 Jan 2022  06:52:25        0.916\n"
     ]
    }
   ],
   "source": [
    "import pandas as pd\n",
    "import scipy\n",
    "import numpy as np\n",
    "from sklearn.preprocessing import MinMaxScaler\n",
    "import seaborn as sns\n",
    "import matplotlib.pyplot as plt\n",
    "\n",
    "# Load the dataset\n",
    "df = pd.read_csv('/kaggle/input/energy-consumption-time-series-dataset/KwhConsumptionBlower78_1.csv')\n",
    "print(df.head())"
   ]
  },
  {
   "cell_type": "code",
   "execution_count": 3,
   "id": "16f45dac",
   "metadata": {
    "_cell_guid": "630650bb-56e1-483c-97e6-aae8c1e25823",
    "_uuid": "32fc499d-4048-4108-97fe-e234c876b06a",
    "collapsed": false,
    "execution": {
     "iopub.execute_input": "2023-11-06T11:42:33.482478Z",
     "iopub.status.busy": "2023-11-06T11:42:33.482098Z",
     "iopub.status.idle": "2023-11-06T11:42:33.510466Z",
     "shell.execute_reply": "2023-11-06T11:42:33.509655Z"
    },
    "jupyter": {
     "outputs_hidden": false
    },
    "papermill": {
     "duration": 0.03678,
     "end_time": "2023-11-06T11:42:33.512705",
     "exception": false,
     "start_time": "2023-11-06T11:42:33.475925",
     "status": "completed"
    },
    "tags": []
   },
   "outputs": [
    {
     "name": "stdout",
     "output_type": "stream",
     "text": [
      "<class 'pandas.core.frame.DataFrame'>\n",
      "RangeIndex: 1228 entries, 0 to 1227\n",
      "Data columns (total 4 columns):\n",
      " #   Column       Non-Null Count  Dtype  \n",
      "---  ------       --------------  -----  \n",
      " 0   Unnamed: 0   1228 non-null   int64  \n",
      " 1   TxnDate      1228 non-null   object \n",
      " 2   TxnTime      1228 non-null   object \n",
      " 3   Consumption  1228 non-null   float64\n",
      "dtypes: float64(1), int64(1), object(2)\n",
      "memory usage: 38.5+ KB\n"
     ]
    }
   ],
   "source": [
    "df.info()"
   ]
  },
  {
   "cell_type": "code",
   "execution_count": 4,
   "id": "1fe26d29",
   "metadata": {
    "_cell_guid": "a811ef5e-4eb7-48ae-b218-02918385d401",
    "_uuid": "70513c6d-d9b2-4d97-9596-93680fab5ff4",
    "collapsed": false,
    "execution": {
     "iopub.execute_input": "2023-11-06T11:42:33.524765Z",
     "iopub.status.busy": "2023-11-06T11:42:33.524120Z",
     "iopub.status.idle": "2023-11-06T11:42:33.547621Z",
     "shell.execute_reply": "2023-11-06T11:42:33.546643Z"
    },
    "jupyter": {
     "outputs_hidden": false
    },
    "papermill": {
     "duration": 0.032221,
     "end_time": "2023-11-06T11:42:33.549936",
     "exception": false,
     "start_time": "2023-11-06T11:42:33.517715",
     "status": "completed"
    },
    "tags": []
   },
   "outputs": [
    {
     "name": "stdout",
     "output_type": "stream",
     "text": [
      "      Unnamed: 0    TxnDate   TxnTime  Consumption  Days_Since_Reference\n",
      "0          76229 2022-01-01  16:55:52        1.010                     0\n",
      "1          76258 2022-01-01  21:45:29        0.908                     0\n",
      "2          76287 2022-01-01  12:24:52        0.926                     0\n",
      "3          76316 2022-01-01  04:07:36        0.928                     0\n",
      "4          76345 2022-01-01  06:52:25        0.916                     0\n",
      "...          ...        ...       ...          ...                   ...\n",
      "1223       97922 2022-01-20  21:43:55        5.128                    19\n",
      "1224       97951 2022-01-20  09:43:03        5.924                    19\n",
      "1225       97980 2022-01-20  03:06:05        4.664                    19\n",
      "1226       98009 2022-01-20  06:16:38        3.474                    19\n",
      "1227       98038 2022-01-20  16:48:03        2.478                    19\n",
      "\n",
      "[1228 rows x 5 columns]\n"
     ]
    }
   ],
   "source": [
    "df['TxnDate'] = pd.to_datetime(df['TxnDate'])\n",
    "reference_date = pd.to_datetime('2022-01-01')\n",
    "df['Days_Since_Reference'] = (df['TxnDate'] - reference_date).dt.days\n",
    "\n",
    "# Now, 'Days_Since_Reference' is a numeric column (float) representing the number of days.\n",
    "print(df)"
   ]
  },
  {
   "cell_type": "code",
   "execution_count": 5,
   "id": "a36c4f4e",
   "metadata": {
    "_cell_guid": "d95bdb20-1f4a-4f93-9101-1163946b4f2f",
    "_uuid": "67bf1f0c-3595-4ff1-bc08-abfe8e83558a",
    "collapsed": false,
    "execution": {
     "iopub.execute_input": "2023-11-06T11:42:33.562272Z",
     "iopub.status.busy": "2023-11-06T11:42:33.561660Z",
     "iopub.status.idle": "2023-11-06T11:42:33.640904Z",
     "shell.execute_reply": "2023-11-06T11:42:33.639377Z"
    },
    "jupyter": {
     "outputs_hidden": false
    },
    "papermill": {
     "duration": 0.08817,
     "end_time": "2023-11-06T11:42:33.643232",
     "exception": false,
     "start_time": "2023-11-06T11:42:33.555062",
     "status": "completed"
    },
    "tags": []
   },
   "outputs": [
    {
     "name": "stdout",
     "output_type": "stream",
     "text": [
      "      Unnamed: 0    TxnDate             TxnTime  Consumption  \\\n",
      "0          76229 2022-01-01 2023-11-06 16:55:52        1.010   \n",
      "1          76258 2022-01-01 2023-11-06 21:45:29        0.908   \n",
      "2          76287 2022-01-01 2023-11-06 12:24:52        0.926   \n",
      "3          76316 2022-01-01 2023-11-06 04:07:36        0.928   \n",
      "4          76345 2022-01-01 2023-11-06 06:52:25        0.916   \n",
      "...          ...        ...                 ...          ...   \n",
      "1223       97922 2022-01-20 2023-11-06 21:43:55        5.128   \n",
      "1224       97951 2022-01-20 2023-11-06 09:43:03        5.924   \n",
      "1225       97980 2022-01-20 2023-11-06 03:06:05        4.664   \n",
      "1226       98009 2022-01-20 2023-11-06 06:16:38        3.474   \n",
      "1227       98038 2022-01-20 2023-11-06 16:48:03        2.478   \n",
      "\n",
      "      Days_Since_Reference  Time_Float  \n",
      "0                        0   16.931111  \n",
      "1                        0   21.758056  \n",
      "2                        0   12.414444  \n",
      "3                        0    4.126667  \n",
      "4                        0    6.873611  \n",
      "...                    ...         ...  \n",
      "1223                    19   21.731944  \n",
      "1224                    19    9.717500  \n",
      "1225                    19    3.101389  \n",
      "1226                    19    6.277222  \n",
      "1227                    19   16.800833  \n",
      "\n",
      "[1228 rows x 6 columns]\n"
     ]
    },
    {
     "name": "stderr",
     "output_type": "stream",
     "text": [
      "/tmp/ipykernel_20/673632822.py:1: UserWarning: Could not infer format, so each element will be parsed individually, falling back to `dateutil`. To ensure parsing is consistent and as-expected, please specify a format.\n",
      "  df['TxnTime'] = pd.to_datetime(df['TxnTime'])\n"
     ]
    }
   ],
   "source": [
    "df['TxnTime'] = pd.to_datetime(df['TxnTime'])\n",
    "\n",
    "# Extract hours, minutes, and seconds\n",
    "df['Hour'] = df['TxnTime'].dt.hour\n",
    "df['Minute'] = df['TxnTime'].dt.minute\n",
    "df['Second'] = df['TxnTime'].dt.second\n",
    "\n",
    "# Convert time values to a float representation, e.g., fractional hours since midnight\n",
    "df['Time_Float'] = df['Hour'] + df['Minute'] / 60.0 + df['Second'] / 3600.0\n",
    "df.drop(['Hour', 'Minute', 'Second'], axis=1, inplace=True)\n",
    "\n",
    "print(df)"
   ]
  },
  {
   "cell_type": "code",
   "execution_count": 6,
   "id": "0b3936f1",
   "metadata": {
    "_cell_guid": "b33ed257-e1a2-47ae-8c99-10ae5dd5c131",
    "_uuid": "4d6d2187-060c-4481-976e-3f075ba3f5fd",
    "collapsed": false,
    "execution": {
     "iopub.execute_input": "2023-11-06T11:42:33.656055Z",
     "iopub.status.busy": "2023-11-06T11:42:33.655218Z",
     "iopub.status.idle": "2023-11-06T11:42:33.959991Z",
     "shell.execute_reply": "2023-11-06T11:42:33.958824Z"
    },
    "jupyter": {
     "outputs_hidden": false
    },
    "papermill": {
     "duration": 0.314182,
     "end_time": "2023-11-06T11:42:33.962663",
     "exception": false,
     "start_time": "2023-11-06T11:42:33.648481",
     "status": "completed"
    },
    "tags": []
   },
   "outputs": [],
   "source": [
    "from sklearn.decomposition import PCA\n",
    "from sklearn.preprocessing import StandardScaler\n",
    "\n",
    "# to fix the above error we have created 2 new features \"Days_Since_Reference and Time_Float\"\n",
    "features = df[['Unnamed: 0','Days_Since_Reference','Time_Float','Consumption']]\n",
    "# Standardize the features\n",
    "scaler = StandardScaler()\n",
    "scaled_features = scaler.fit_transform(features)"
   ]
  },
  {
   "cell_type": "code",
   "execution_count": 7,
   "id": "50ecfa1f",
   "metadata": {
    "_cell_guid": "57a9d3c0-07af-4343-8fe7-a1ce3c75242a",
    "_uuid": "159a5ca9-9c86-43fc-9c9c-387f9c48df82",
    "collapsed": false,
    "execution": {
     "iopub.execute_input": "2023-11-06T11:42:33.974770Z",
     "iopub.status.busy": "2023-11-06T11:42:33.974362Z",
     "iopub.status.idle": "2023-11-06T11:42:34.003102Z",
     "shell.execute_reply": "2023-11-06T11:42:34.001486Z"
    },
    "jupyter": {
     "outputs_hidden": false
    },
    "papermill": {
     "duration": 0.037921,
     "end_time": "2023-11-06T11:42:34.005795",
     "exception": false,
     "start_time": "2023-11-06T11:42:33.967874",
     "status": "completed"
    },
    "tags": []
   },
   "outputs": [
    {
     "name": "stdout",
     "output_type": "stream",
     "text": [
      "      Unnamed: 0    TxnDate             TxnTime  Consumption  \\\n",
      "0          76229 2022-01-01 2023-11-06 16:55:52        1.010   \n",
      "1          76258 2022-01-01 2023-11-06 21:45:29        0.908   \n",
      "2          76287 2022-01-01 2023-11-06 12:24:52        0.926   \n",
      "3          76316 2022-01-01 2023-11-06 04:07:36        0.928   \n",
      "4          76345 2022-01-01 2023-11-06 06:52:25        0.916   \n",
      "...          ...        ...                 ...          ...   \n",
      "1223       97922 2022-01-20 2023-11-06 21:43:55        5.128   \n",
      "1224       97951 2022-01-20 2023-11-06 09:43:03        5.924   \n",
      "1225       97980 2022-01-20 2023-11-06 03:06:05        4.664   \n",
      "1226       98009 2022-01-20 2023-11-06 06:16:38        3.474   \n",
      "1227       98038 2022-01-20 2023-11-06 16:48:03        2.478   \n",
      "\n",
      "      Days_Since_Reference  Time_Float  \n",
      "0                        0   16.931111  \n",
      "1                        0   21.758056  \n",
      "2                        0   12.414444  \n",
      "3                        0    4.126667  \n",
      "4                        0    6.873611  \n",
      "...                    ...         ...  \n",
      "1223                    19   21.731944  \n",
      "1224                    19    9.717500  \n",
      "1225                    19    3.101389  \n",
      "1226                    19    6.277222  \n",
      "1227                    19   16.800833  \n",
      "\n",
      "[1228 rows x 6 columns]\n"
     ]
    }
   ],
   "source": [
    "pca = PCA(n_components=2)  # Choose the number of components you want to keep\n",
    "principal_components = pca.fit_transform(scaled_features)\n",
    "\n",
    "# Step 7: Interpret Results\n",
    "explained_variance = pca.explained_variance_ratio_\n",
    "print (df)"
   ]
  },
  {
   "cell_type": "code",
   "execution_count": 8,
   "id": "28e1219e",
   "metadata": {
    "_cell_guid": "2baeb6c8-c6a4-4c8f-9492-aa41eb4ad24e",
    "_uuid": "5ae33381-ce63-43bf-9e2d-6b78365814b5",
    "collapsed": false,
    "execution": {
     "iopub.execute_input": "2023-11-06T11:42:34.018904Z",
     "iopub.status.busy": "2023-11-06T11:42:34.017670Z",
     "iopub.status.idle": "2023-11-06T11:42:34.023400Z",
     "shell.execute_reply": "2023-11-06T11:42:34.022545Z"
    },
    "jupyter": {
     "outputs_hidden": false
    },
    "papermill": {
     "duration": 0.014361,
     "end_time": "2023-11-06T11:42:34.025539",
     "exception": false,
     "start_time": "2023-11-06T11:42:34.011178",
     "status": "completed"
    },
    "tags": []
   },
   "outputs": [
    {
     "name": "stdout",
     "output_type": "stream",
     "text": [
      "[0.41457699 0.34903876]\n"
     ]
    }
   ],
   "source": [
    "explained_variance = pca.explained_variance_ratio_\n",
    "print(explained_variance)"
   ]
  },
  {
   "cell_type": "code",
   "execution_count": 9,
   "id": "b37cb599",
   "metadata": {
    "_cell_guid": "75ef9b46-36ee-4546-a5e6-9406e21dbffd",
    "_uuid": "422349ed-1f9f-4a09-b2d1-7211710a2a70",
    "collapsed": false,
    "execution": {
     "iopub.execute_input": "2023-11-06T11:42:34.038311Z",
     "iopub.status.busy": "2023-11-06T11:42:34.037675Z",
     "iopub.status.idle": "2023-11-06T11:42:34.042645Z",
     "shell.execute_reply": "2023-11-06T11:42:34.041781Z"
    },
    "jupyter": {
     "outputs_hidden": false
    },
    "papermill": {
     "duration": 0.013886,
     "end_time": "2023-11-06T11:42:34.044761",
     "exception": false,
     "start_time": "2023-11-06T11:42:34.030875",
     "status": "completed"
    },
    "tags": []
   },
   "outputs": [
    {
     "name": "stdout",
     "output_type": "stream",
     "text": [
      "[[ 0.71094897  0.69979326  0.01089034  0.06871941]\n",
      " [ 0.03211484 -0.11313399  0.694555    0.70976242]]\n"
     ]
    }
   ],
   "source": [
    "component_loadings = pca.components_\n",
    "print(component_loadings)"
   ]
  },
  {
   "cell_type": "code",
   "execution_count": 10,
   "id": "9ddeb974",
   "metadata": {
    "_cell_guid": "f764dcb6-ba6b-47e3-aeb6-da5021b6a2d6",
    "_uuid": "15586283-f5ab-4a13-9300-49180558452e",
    "collapsed": false,
    "execution": {
     "iopub.execute_input": "2023-11-06T11:42:34.058097Z",
     "iopub.status.busy": "2023-11-06T11:42:34.057464Z",
     "iopub.status.idle": "2023-11-06T11:42:34.415014Z",
     "shell.execute_reply": "2023-11-06T11:42:34.413656Z"
    },
    "jupyter": {
     "outputs_hidden": false
    },
    "papermill": {
     "duration": 0.367245,
     "end_time": "2023-11-06T11:42:34.417720",
     "exception": false,
     "start_time": "2023-11-06T11:42:34.050475",
     "status": "completed"
    },
    "tags": []
   },
   "outputs": [
    {
     "data": {
      "image/png": "[encoded data removed]",
      "text/plain": [
       "<Figure size 640x480 with 1 Axes>"
      ]
     },
     "metadata": {},
     "output_type": "display_data"
    }
   ],
   "source": [
    "import matplotlib.pyplot as plt\n",
    "from scipy import stats\n",
    "\n",
    "plt.scatter(principal_components[:, 0], principal_components[:, 1])\n",
    "plt.xlabel('Principal Component 1')\n",
    "plt.ylabel('Principal Component 2')\n",
    "plt.title('PCA Results')\n",
    "z_scores = np.abs(stats.zscore(principal_components))\n",
    "threshold = 2.5\n",
    "\n",
    "outliers = np.where(z_scores > threshold)\n",
    "outlier_indices = list(set(outliers[0]) | set(outliers[1]))  # Combine row and column outliers\n",
    "\n",
    "# Highlight outliers on the scatterplot\n",
    "plt.scatter(principal_components[outlier_indices, 0], principal_components[outlier_indices, 1], c='red', s=50, label='Outliers')\n",
    "plt.legend()\n",
    "plt.show()"
   ]
  },
  {
   "cell_type": "code",
   "execution_count": 11,
   "id": "8685b77b",
   "metadata": {
    "execution": {
     "iopub.execute_input": "2023-11-06T11:42:34.432474Z",
     "iopub.status.busy": "2023-11-06T11:42:34.431470Z",
     "iopub.status.idle": "2023-11-06T11:42:34.451072Z",
     "shell.execute_reply": "2023-11-06T11:42:34.449590Z"
    },
    "papermill": {
     "duration": 0.029618,
     "end_time": "2023-11-06T11:42:34.453735",
     "exception": false,
     "start_time": "2023-11-06T11:42:34.424117",
     "status": "completed"
    },
    "tags": []
   },
   "outputs": [
    {
     "name": "stdout",
     "output_type": "stream",
     "text": [
      "      Feature1  Feature2  Feature3  Feature4  Unnamed: 0\n",
      "0    -1.563279 -1.561054  0.083007 -0.042210       76229\n",
      "1    -1.542076 -1.607265  0.404988  0.287333       76258\n",
      "2    -1.579883 -1.509476 -0.242937 -0.375416       76287\n",
      "3    -1.613437 -1.422352 -0.819583 -0.965245       76316\n",
      "4    -1.599428 -1.448086 -0.629855 -0.770939       76345\n",
      "...        ...       ...       ...       ...         ...\n",
      "1223  1.946051  1.742615  0.858879  1.032217       97922\n",
      "1224  1.912436  1.860660  0.133673  0.291126       97951\n",
      "1225  1.860546  1.942169 -0.502876 -0.361181       97980\n",
      "1226  1.852532  1.922779 -0.447850 -0.305806       98009\n",
      "1227  1.880311  1.826388  0.145891  0.300961       98038\n",
      "\n",
      "[1228 rows x 5 columns]\n"
     ]
    }
   ],
   "source": [
    "import numpy as np\n",
    "import pandas as pd\n",
    "from sklearn.decomposition import PCA\n",
    "from sklearn.preprocessing import StandardScaler\n",
    "\n",
    "# Assuming you have already applied PCA as shown in your code and have 'principal_components'\n",
    "# Also, make sure 'df' contains your original data before PCA.\n",
    "\n",
    "# Standardize the features\n",
    "scaler = StandardScaler()\n",
    "scaled_features = scaler.fit_transform(df[['Unnamed: 0', 'Days_Since_Reference', 'Time_Float', 'Consumption']])\n",
    "\n",
    "# Create a PCA object with the number of components you used originally\n",
    "n_components = 2  # Replace with the number of components you used\n",
    "pca = PCA(n_components=n_components)\n",
    "\n",
    "# Fit the PCA model on the scaled data\n",
    "pca.fit(scaled_features)\n",
    "\n",
    "# Reconstruct the data points from the PCA components\n",
    "reconstructed_data = pca.inverse_transform(principal_components)\n",
    "\n",
    "# Create a DataFrame with the reconstructed data\n",
    "reconstructed_df = pd.DataFrame(data=reconstructed_data, columns=['Feature1', 'Feature2', 'Feature3', 'Feature4'])\n",
    "\n",
    "# Concatenate the 'Unnamed: 0' column if you want it in the reconstructed DataFrame\n",
    "reconstructed_df['Unnamed: 0'] = df['Unnamed: 0']\n",
    "\n",
    "# Display the reconstructed DataFrame\n",
    "print(reconstructed_df)\n"
   ]
  },
  {
   "cell_type": "code",
   "execution_count": 12,
   "id": "d356be71",
   "metadata": {
    "execution": {
     "iopub.execute_input": "2023-11-06T11:42:34.468902Z",
     "iopub.status.busy": "2023-11-06T11:42:34.467938Z",
     "iopub.status.idle": "2023-11-06T11:42:34.476291Z",
     "shell.execute_reply": "2023-11-06T11:42:34.474830Z"
    },
    "papermill": {
     "duration": 0.018473,
     "end_time": "2023-11-06T11:42:34.478635",
     "exception": false,
     "start_time": "2023-11-06T11:42:34.460162",
     "status": "completed"
    },
    "tags": []
   },
   "outputs": [
    {
     "name": "stdout",
     "output_type": "stream",
     "text": [
      "Anomaly Indices in Reconstructed Data: [193, 2, 3, 1030, 651, 1169, 82, 84, 89, 799, 1056, 290, 312, 423, 359, 489, 364, 240, 242, 311, 568]\n"
     ]
    }
   ],
   "source": [
    "from scipy import stats\n",
    "\n",
    "# Calculate z-scores for the reconstructed data\n",
    "z_scores_reconstructed = np.abs(stats.zscore(reconstructed_data))\n",
    "threshold = 2.5  # Set your desired threshold for anomaly detection\n",
    "\n",
    "# Find outlier indices based on the threshold\n",
    "outliers_reconstructed = np.where(z_scores_reconstructed > threshold)\n",
    "outlier_indices_reconstructed = list(set(outliers_reconstructed[0]) | set(outliers_reconstructed[1]))  # Combine row and column outliers\n",
    "\n",
    "# Display the indices of anomalies in the reconstructed data\n",
    "print(\"Anomaly Indices in Reconstructed Data:\", outlier_indices_reconstructed)\n"
   ]
  },
  {
   "cell_type": "code",
   "execution_count": 13,
   "id": "f8fbb231",
   "metadata": {
    "execution": {
     "iopub.execute_input": "2023-11-06T11:42:34.493379Z",
     "iopub.status.busy": "2023-11-06T11:42:34.492994Z",
     "iopub.status.idle": "2023-11-06T11:42:34.847005Z",
     "shell.execute_reply": "2023-11-06T11:42:34.845650Z"
    },
    "papermill": {
     "duration": 0.364008,
     "end_time": "2023-11-06T11:42:34.849446",
     "exception": false,
     "start_time": "2023-11-06T11:42:34.485438",
     "status": "completed"
    },
    "tags": []
   },
   "outputs": [
    {
     "data": {
      "image/png": "[encoded data removed]",
      "text/plain": [
       "<Figure size 640x480 with 1 Axes>"
      ]
     },
     "metadata": {},
     "output_type": "display_data"
    }
   ],
   "source": [
    "import matplotlib.pyplot as plt\n",
    "\n",
    "# Scatterplot of the reconstructed data\n",
    "plt.scatter(reconstructed_data[:, 0], reconstructed_data[:, 1], label='Reconstructed Data')\n",
    "\n",
    "# Highlight anomalies in red\n",
    "plt.scatter(reconstructed_data[outlier_indices_reconstructed, 0], reconstructed_data[outlier_indices_reconstructed, 1], c='red', s=50, label='Anomalies')\n",
    "\n",
    "plt.xlabel('Feature 1')\n",
    "plt.ylabel('Feature 2')\n",
    "plt.title('Reconstructed Data with Anomalies')\n",
    "plt.legend()\n",
    "plt.show()\n"
   ]
  }
 ],
 "metadata": {
  "kernelspec": {
   "display_name": "Python 3",
   "language": "python",
   "name": "python3"
  },
  "language_info": {
   "codemirror_mode": {
    "name": "ipython",
    "version": 3
   },
   "file_extension": ".py",
   "mimetype": "text/x-python",
   "name": "python",
   "nbconvert_exporter": "python",
   "pygments_lexer": "ipython3",
   "version": "3.10.12"
  },
  "papermill": {
   "default_parameters": {},
   "duration": 7.881617,
   "end_time": "2023-11-06T11:42:35.478027",
   "environment_variables": {},
   "exception": null,
   "input_path": "__notebook__.ipynb",
   "output_path": "__notebook__.ipynb",
   "parameters": {},
   "start_time": "2023-11-06T11:42:27.596410",
   "version": "2.4.0"
  }
 },
 "nbformat": 4,
 "nbformat_minor": 5
}
